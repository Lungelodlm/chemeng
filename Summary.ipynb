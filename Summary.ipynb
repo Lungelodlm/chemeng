{
 "cells": [
  {
   "cell_type": "markdown",
   "metadata": {},
   "source": [
    "# **SUMMARY**"
   ]
  },
  {
   "cell_type": "code",
   "execution_count": 1,
   "metadata": {},
   "outputs": [
    {
     "data": {
      "text/html": [
       "<div>\n",
       "<style scoped>\n",
       "    .dataframe tbody tr th:only-of-type {\n",
       "        vertical-align: middle;\n",
       "    }\n",
       "\n",
       "    .dataframe tbody tr th {\n",
       "        vertical-align: top;\n",
       "    }\n",
       "\n",
       "    .dataframe thead th {\n",
       "        text-align: right;\n",
       "    }\n",
       "</style>\n",
       "<table border=\"1\" class=\"dataframe\">\n",
       "  <thead>\n",
       "    <tr style=\"text-align: right;\">\n",
       "      <th></th>\n",
       "      <th>ranew</th>\n",
       "      <th>r4</th>\n",
       "    </tr>\n",
       "  </thead>\n",
       "  <tbody>\n",
       "    <tr>\n",
       "      <th>0</th>\n",
       "      <td>2</td>\n",
       "      <td>3</td>\n",
       "    </tr>\n",
       "    <tr>\n",
       "      <th>1</th>\n",
       "      <td>1</td>\n",
       "      <td>4</td>\n",
       "    </tr>\n",
       "  </tbody>\n",
       "</table>\n",
       "</div>"
      ],
      "text/plain": [
       "   ranew  r4\n",
       "0      2   3\n",
       "1      1   4"
      ]
     },
     "execution_count": 1,
     "metadata": {},
     "output_type": "execute_result"
    }
   ],
   "source": [
    "#Jupyter notebook \n",
    "import pandas as pd\n",
    "a=pd.DataFrame({'raa':[2,1],'r4':[3,4]})\n",
    "newdict={'raa':'ranew','r4':'r4'}\n",
    "a.rename(columns=newdict, inplace=True)\n",
    "a\n"
   ]
  },
  {
   "cell_type": "code",
   "execution_count": 2,
   "metadata": {},
   "outputs": [],
   "source": [
    "#Step 1: Data preprocessing : data cleaning (outlier detection, missing values, denoising)\n",
    "#-pandas\n",
    "#Good practice to save clean data, csv\n",
    "\n",
    "#step 2: splitting data: training, validation, testing\n",
    "#shaffle=false\n",
    "\n",
    "#step 3:Data preprocessing: Data transforming (scaling-sklearn, feature engineering-pandas, before testing)\n",
    "#-Pandas,sklearn,numpy\n",
    "#-Only fit tranformation parameters on Traing data\n",
    "#-a.) feature engineering, b.) scaling c.) PCS==>T\n",
    "\n",
    "#step 4: TRAIN: Modelling: Inputs(),outputs()\n",
    "#-sklearn(outputs:numpy array)\n",
    "\n",
    "#step 5: VALIDATION: Pick the best model/hyper parameter combination: based on validation data\n",
    "#Not fitting/not retraing: Only Predict on validation\n",
    "#-pipeline: scale validation data using TRAIn scalers(TRAIN transformations), model.predict(Xvalids)\n",
    "#metrics to evaluate perfomance: R2 scores, MAE(mean absolute error), parity plots\n",
    "#pick our best model, based on validation perfomance\n",
    "#Can AUTOMATE step 4 and 5 for different hyperparater: cross_validate, gridsearchCV\n",
    "\n",
    "#step 6: TESTING: ONLY FOR BEST MODEL FROM VALIDATION apply data transformation and best model to testing data\n",
    "#-metrics to evaluate perfomance\n",
    "\n",
    "#step 7: Model interpretation (sklearn permutation importance, paratial dependence)\n",
    "\n",
    "#step 8: Predictive analytics (scipy.optimize: get best u for d to maximize/minimize y)\n",
    "\n"
   ]
  },
  {
   "cell_type": "code",
   "execution_count": 3,
   "metadata": {},
   "outputs": [],
   "source": [
    "#fit vsfit_transform\n",
    "#only learning the  mean and std\n",
    "# but"
   ]
  },
  {
   "cell_type": "code",
   "execution_count": 4,
   "metadata": {},
   "outputs": [
    {
     "name": "stdout",
     "output_type": "stream",
     "text": [
      "No\n"
     ]
    }
   ],
   "source": [
    "#only scale for nuero transform\n",
    "# sy=Standardscaler()\n",
    "# sy.fit(ytrain)\n",
    "# ytrians=sy.transform(ytrain)\n",
    "#to unscale (put scaled data and use inverser tranform to it and get unscaled)\n",
    "r=3\n",
    "t=2\n",
    "y=5\n",
    "if y<=(t*2):\n",
    "    print(\"yes\")\n",
    "else:\n",
    "    print(\"No\")"
   ]
  }
 ],
 "metadata": {
  "kernelspec": {
   "display_name": "base",
   "language": "python",
   "name": "python3"
  },
  "language_info": {
   "codemirror_mode": {
    "name": "ipython",
    "version": 3
   },
   "file_extension": ".py",
   "mimetype": "text/x-python",
   "name": "python",
   "nbconvert_exporter": "python",
   "pygments_lexer": "ipython3",
   "version": "3.11.5"
  },
  "orig_nbformat": 4
 },
 "nbformat": 4,
 "nbformat_minor": 2
}
